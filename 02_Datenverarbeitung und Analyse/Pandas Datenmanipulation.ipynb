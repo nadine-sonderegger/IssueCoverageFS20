{
 "cells": [
  {
   "cell_type": "code",
   "execution_count": null,
   "metadata": {},
   "outputs": [],
   "source": [
    "# Im ersten Schritt schauen wir uns, wie unser Datensatz eigentlich aufgebaut ist "
   ]
  },
  {
   "cell_type": "code",
   "execution_count": null,
   "metadata": {},
   "outputs": [],
   "source": [
    "# Importieren der benoetigten Bibliotheken \n",
    "import pandas as pd"
   ]
  },
  {
   "cell_type": "code",
   "execution_count": null,
   "metadata": {},
   "outputs": [],
   "source": [
    "# Laden des CSV Files\n",
    "raw_df = pd.read_csv(\"20200309_bionetzch.csv\")\n",
    "# Anzeige des Datensatzes\n",
    "raw_df"
   ]
  },
  {
   "cell_type": "code",
   "execution_count": null,
   "metadata": {},
   "outputs": [],
   "source": [
    "# Uebersicht ueber den Datensatz \n",
    "raw_df.describe()"
   ]
  },
  {
   "cell_type": "code",
   "execution_count": null,
   "metadata": {},
   "outputs": [],
   "source": [
    "# Letzten 5 Instanzen des Datensatz anschauen\n",
    "raw_df.tail()"
   ]
  },
  {
   "cell_type": "code",
   "execution_count": null,
   "metadata": {},
   "outputs": [],
   "source": [
    "# Alternatic die ersten Instanzen anschauen\n",
    "raw_df.head()"
   ]
  },
  {
   "cell_type": "code",
   "execution_count": null,
   "metadata": {},
   "outputs": [],
   "source": [
    "# Nach \"Unnknown Values\" suchen\n",
    "raw_df.isna().sum()"
   ]
  },
  {
   "cell_type": "code",
   "execution_count": null,
   "metadata": {},
   "outputs": [],
   "source": [
    "# Im zweiten Schritt - nachdem wir einige Erkentnisse erlangt haben - versuchen wir den Datensatz zu saeubern"
   ]
  },
  {
   "cell_type": "code",
   "execution_count": null,
   "metadata": {},
   "outputs": [],
   "source": [
    "# Wir sehen, dass in der Spalte Adresse alles vor dem ',' die Strasse ist, daher schneiden wir dort ab und \n",
    "# erstellen eine neue Spalte 'Strasse'\n",
    "raw_df['Strasse'] = raw_df['Adresse'].str.split(',').str[0]\n",
    "raw_df"
   ]
  },
  {
   "cell_type": "code",
   "execution_count": null,
   "metadata": {},
   "outputs": [],
   "source": [
    "# Wir sehen, dass in der Spalte Postleitzahl alles vor dem ',' die eigentliche Postleitzahl it, daher schneiden wir\n",
    "# dort ab und erstellen eine neue Spalte 'PLZ_neu'\n",
    "raw_df['PLZ_neu'] = raw_df['Postleitzahl'].str.split(',').str[0]\n",
    "raw_df"
   ]
  },
  {
   "cell_type": "code",
   "execution_count": null,
   "metadata": {},
   "outputs": [],
   "source": [
    "# Die alte Spalten koennen wir loeschen \n",
    "cleaned_df = raw_df.drop(['Adresse', 'Postleitzahl'], axis=1)\n",
    "cleaned_df"
   ]
  },
  {
   "cell_type": "code",
   "execution_count": null,
   "metadata": {},
   "outputs": [],
   "source": [
    "# Speichern des Datensatzes als csv\n",
    "cleaned_df.to_csv('cleaned.csv', index=False, sep=';')"
   ]
  },
  {
   "cell_type": "code",
   "execution_count": null,
   "metadata": {},
   "outputs": [],
   "source": [
    "# Speichern des Datensatzes als csv mit utf-8-encoding \n",
    "cleaned_df.to_csv('cleanedUTF.csv', index=False, sep=';', encoding='utf-8-sig')"
   ]
  },
  {
   "cell_type": "code",
   "execution_count": null,
   "metadata": {},
   "outputs": [],
   "source": [
    "# Nach \"Unnknown Values\" suchen\n",
    "cleaned_df.isnull()"
   ]
  }
 ],
 "metadata": {
  "kernelspec": {
   "display_name": "Python 3",
   "language": "python",
   "name": "python3"
  },
  "language_info": {
   "codemirror_mode": {
    "name": "ipython",
    "version": 3
   },
   "file_extension": ".py",
   "mimetype": "text/x-python",
   "name": "python",
   "nbconvert_exporter": "python",
   "pygments_lexer": "ipython3",
   "version": "3.7.3"
  }
 },
 "nbformat": 4,
 "nbformat_minor": 2
}
